{
 "cells": [
  {
   "cell_type": "markdown",
   "id": "49552914",
   "metadata": {},
   "source": [
    "# Trabajo Integrador: DuckDB"
   ]
  },
  {
   "cell_type": "markdown",
   "id": "685d9cd1",
   "metadata": {},
   "source": [
    "## Instalacion"
   ]
  },
  {
   "cell_type": "code",
   "execution_count": 1,
   "id": "54fd40cc",
   "metadata": {},
   "outputs": [
    {
     "name": "stdout",
     "output_type": "stream",
     "text": [
      "Requirement already satisfied: duckdb in /Library/Frameworks/Python.framework/Versions/3.13/lib/python3.13/site-packages (1.3.1)\n",
      "\n",
      "\u001b[1m[\u001b[0m\u001b[34;49mnotice\u001b[0m\u001b[1;39;49m]\u001b[0m\u001b[39;49m A new release of pip is available: \u001b[0m\u001b[31;49m24.3.1\u001b[0m\u001b[39;49m -> \u001b[0m\u001b[32;49m25.1.1\u001b[0m\n",
      "\u001b[1m[\u001b[0m\u001b[34;49mnotice\u001b[0m\u001b[1;39;49m]\u001b[0m\u001b[39;49m To update, run: \u001b[0m\u001b[32;49mpip3.13 install --upgrade pip\u001b[0m\n",
      "Note: you may need to restart the kernel to use updated packages.\n"
     ]
    }
   ],
   "source": [
    "%pip install duckdb --upgrade"
   ]
  },
  {
   "cell_type": "markdown",
   "id": "335237e5",
   "metadata": {},
   "source": [
    "### Creando conexión"
   ]
  },
  {
   "cell_type": "markdown",
   "id": "1619f2e2",
   "metadata": {},
   "source": [
    "Nos permite establecer una conexión a una base de datos, por defecto, si no especificamos su nombre, la base de datos no persistirá y operará en memoria, por lo tanto no se almacenarán las tablas creadas. Trabajaremos en memoria ya que consideramos que es el fuerte de DUCKDB y su análisis es el pertinente de este trabajo de investigación. "
   ]
  },
  {
   "cell_type": "code",
   "execution_count": 31,
   "id": "75c5e0b3",
   "metadata": {},
   "outputs": [],
   "source": [
    "import duckdb as db\n",
    "\n",
    "database = db.connect(database=\":memory:\")\n"
   ]
  },
  {
   "cell_type": "markdown",
   "id": "ee48b092",
   "metadata": {},
   "source": [
    "##### Prueba con el dataset. En PostgreSQL almacenaremos archivos de órdenes y sus pagos. En AWS almacenaremos los productos y su categoría. El resto de archivos será almacenado de manera local, algunos en CSV y otros en PARQUET. Esta información se encuentra representada meidante un esquema en la documentación adjunta"
   ]
  },
  {
   "cell_type": "code",
   "execution_count": 40,
   "id": "ae6441cf",
   "metadata": {},
   "outputs": [
    {
     "name": "stdout",
     "output_type": "stream",
     "text": [
      "\n",
      "\u001b[1m[\u001b[0m\u001b[34;49mnotice\u001b[0m\u001b[1;39;49m]\u001b[0m\u001b[39;49m A new release of pip is available: \u001b[0m\u001b[31;49m24.3.1\u001b[0m\u001b[39;49m -> \u001b[0m\u001b[32;49m25.1.1\u001b[0m\n",
      "\u001b[1m[\u001b[0m\u001b[34;49mnotice\u001b[0m\u001b[1;39;49m]\u001b[0m\u001b[39;49m To update, run: \u001b[0m\u001b[32;49mpip3.13 install --upgrade pip\u001b[0m\n",
      "Note: you may need to restart the kernel to use updated packages.\n",
      "olist_customers_dataset\n",
      "olist_geolocation_dataset\n",
      "olist_order_items_dataset\n",
      "olist_order_reviews_dataset\n",
      "olist_sellers_dataset\n"
     ]
    }
   ],
   "source": [
    "%pip install -q kagglehub        \n",
    "import kagglehub, shutil, pathlib\n",
    "\n",
    "path = kagglehub.dataset_download(\"olistbr/brazilian-ecommerce\")\n",
    "\n",
    "local_csv_files = [\n",
    "    \"olist_customers_dataset.csv\",\n",
    "    \"olist_geolocation_dataset.csv\",\n",
    "    \"olist_order_items_dataset.csv\",\n",
    "    \"olist_order_reviews_dataset.csv\",\n",
    "    \"olist_sellers_dataset.csv\",\n",
    "]\n",
    "\n",
    "for file_name in local_csv_files:\n",
    "    shutil.copy(f\"{path}/{file_name}\", f\"dataset/{file_name}\")\n",
    "\n",
    "for file_name in local_csv_files:\n",
    "    table = pathlib.Path(f\"dataset/{file_name}\").stem\n",
    "    print(table)         \n",
    "    database.execute(f\"\"\"\n",
    "        CREATE OR REPLACE TABLE {table} AS\n",
    "        SELECT * FROM read_csv_auto('dataset/{file_name}');\n",
    "    \"\"\")\n"
   ]
  },
  {
   "cell_type": "markdown",
   "id": "23715818",
   "metadata": {},
   "source": [
    "#### Conexión con AWS S3"
   ]
  },
  {
   "cell_type": "code",
   "execution_count": 4,
   "id": "64228904",
   "metadata": {},
   "outputs": [
    {
     "name": "stdout",
     "output_type": "stream",
     "text": [
      "Requirement already satisfied: python-dotenv in /Library/Frameworks/Python.framework/Versions/3.13/lib/python3.13/site-packages (1.1.1)\n",
      "\n",
      "\u001b[1m[\u001b[0m\u001b[34;49mnotice\u001b[0m\u001b[1;39;49m]\u001b[0m\u001b[39;49m A new release of pip is available: \u001b[0m\u001b[31;49m24.3.1\u001b[0m\u001b[39;49m -> \u001b[0m\u001b[32;49m25.1.1\u001b[0m\n",
      "\u001b[1m[\u001b[0m\u001b[34;49mnotice\u001b[0m\u001b[1;39;49m]\u001b[0m\u001b[39;49m To update, run: \u001b[0m\u001b[32;49mpip3.13 install --upgrade pip\u001b[0m\n",
      "Note: you may need to restart the kernel to use updated packages.\n"
     ]
    }
   ],
   "source": [
    "%pip install python-dotenv"
   ]
  },
  {
   "cell_type": "markdown",
   "id": "a936ae9d",
   "metadata": {},
   "source": [
    "**NOTA:** Para utilizar AWS S3 es necesario setear las credenciales para acceder al bucket, para eso debemos crear un user en la IAM de AWS, asignarle permisos y finalmente crear las claves de acceso para este usuario. Luego, estas credenciales son obtenidas desde un .env.\n",
    "Es importante que la región del bucket y del usuario sean la misma."
   ]
  },
  {
   "cell_type": "code",
   "execution_count": 38,
   "id": "47b45604",
   "metadata": {},
   "outputs": [],
   "source": [
    "from dotenv import load_dotenv\n",
    "load_dotenv()  \n",
    "\n",
    "import os\n",
    "\n",
    "database.sql(\"INSTALL httpfs; LOAD httpfs;\")\n",
    "\n",
    "database.sql(f\"\"\"\n",
    "SET s3_region='{os.getenv(\"AWS_REGION\")}';\n",
    "SET s3_access_key_id='{os.getenv(\"AWS_ACCESS_KEY_ID\")}';\n",
    "SET s3_secret_access_key='{os.getenv(\"AWS_SECRET_ACCESS_KEY\")}';\n",
    "\"\"\")"
   ]
  },
  {
   "cell_type": "code",
   "execution_count": 39,
   "id": "adde13fe",
   "metadata": {},
   "outputs": [
    {
     "data": {
      "text/plain": [
       "┌──────────────────────────────────┬───────────────────────┬─────────────────────┬────────────────────────────┬────────────────────┬──────────────────┬───────────────────┬───────────────────┬──────────────────┐\n",
       "│            product_id            │ product_category_name │ product_name_lenght │ product_description_lenght │ product_photos_qty │ product_weight_g │ product_length_cm │ product_height_cm │ product_width_cm │\n",
       "│             varchar              │        varchar        │        int64        │           int64            │       int64        │      int64       │       int64       │       int64       │      int64       │\n",
       "├──────────────────────────────────┼───────────────────────┼─────────────────────┼────────────────────────────┼────────────────────┼──────────────────┼───────────────────┼───────────────────┼──────────────────┤\n",
       "│ 1e9e8ef04dbcff4541ed26657ea517e5 │ perfumaria            │                  40 │                        287 │                  1 │              225 │                16 │                10 │               14 │\n",
       "│ 3aa071139cb16b67ca9e5dea641aaa2f │ artes                 │                  44 │                        276 │                  1 │             1000 │                30 │                18 │               20 │\n",
       "│ 96bd76ec8810374ed1b65e291975717f │ esporte_lazer         │                  46 │                        250 │                  1 │              154 │                18 │                 9 │               15 │\n",
       "│ cef67bcfe19066a932b7673e239eb23d │ bebes                 │                  27 │                        261 │                  1 │              371 │                26 │                 4 │               26 │\n",
       "│ 9dc1a7de274444849c219cff195d0b71 │ utilidades_domesticas │                  37 │                        402 │                  4 │              625 │                20 │                17 │               13 │\n",
       "└──────────────────────────────────┴───────────────────────┴─────────────────────┴────────────────────────────┴────────────────────┴──────────────────┴───────────────────┴───────────────────┴──────────────────┘"
      ]
     },
     "execution_count": 39,
     "metadata": {},
     "output_type": "execute_result"
    }
   ],
   "source": [
    "database.sql(\"\"\"\n",
    "SELECT * FROM read_csv_auto('s3://ti-quadrelli-ribarov/olist_products_dataset.csv') LIMIT 5\n",
    "\"\"\")"
   ]
  },
  {
   "cell_type": "markdown",
   "id": "dac1742f",
   "metadata": {},
   "source": [
    "### Exploracion del dataset"
   ]
  },
  {
   "cell_type": "code",
   "execution_count": null,
   "id": "31cdfe4f",
   "metadata": {},
   "outputs": [],
   "source": [
    "# Creación de la tabla en memoria\n",
    "database.sql(\"CREATE TABLE customers AS SELECT * FROM 'olist_customers_dataset.csv'\")\n"
   ]
  },
  {
   "cell_type": "code",
   "execution_count": 34,
   "id": "e72d36d3",
   "metadata": {},
   "outputs": [
    {
     "ename": "CatalogException",
     "evalue": "Catalog Error: Table with name customers does not exist!\nDid you mean \"olist_customers_dataset\"?",
     "output_type": "error",
     "traceback": [
      "\u001b[31m---------------------------------------------------------------------------\u001b[39m",
      "\u001b[31mCatalogException\u001b[39m                          Traceback (most recent call last)",
      "\u001b[36mCell\u001b[39m\u001b[36m \u001b[39m\u001b[32mIn[34]\u001b[39m\u001b[32m, line 3\u001b[39m\n\u001b[32m      1\u001b[39m \u001b[38;5;66;03m# Consulta a la tabla en memoria\u001b[39;00m\n\u001b[32m----> \u001b[39m\u001b[32m3\u001b[39m table_description = \u001b[43mdatabase\u001b[49m\u001b[43m.\u001b[49m\u001b[43msql\u001b[49m\u001b[43m(\u001b[49m\u001b[33;43m\"\u001b[39;49m\u001b[33;43mDESCRIBE customers\u001b[39;49m\u001b[33;43m\"\u001b[39;49m\u001b[43m)\u001b[49m\n\u001b[32m      5\u001b[39m \u001b[38;5;28mprint\u001b[39m(table_description)\n\u001b[32m      7\u001b[39m first_ten = database.sql(\u001b[33m\"\u001b[39m\u001b[33mSELECT * FROM customers LIMIT 10\u001b[39m\u001b[33m\"\u001b[39m)\n",
      "\u001b[31mCatalogException\u001b[39m: Catalog Error: Table with name customers does not exist!\nDid you mean \"olist_customers_dataset\"?"
     ]
    }
   ],
   "source": [
    "\n",
    "# Consulta a la tabla en memoria\n",
    "\n",
    "table_description = database.sql(\"DESCRIBE customers\")\n",
    "\n",
    "print(table_description)\n",
    "\n",
    "first_ten = database.sql(\"SELECT * FROM customers LIMIT 10\")\n",
    "\n",
    "print(first_ten)"
   ]
  },
  {
   "cell_type": "markdown",
   "id": "fee635ca",
   "metadata": {},
   "source": []
  }
 ],
 "metadata": {
  "kernelspec": {
   "display_name": "Python 3",
   "language": "python",
   "name": "python3"
  },
  "language_info": {
   "codemirror_mode": {
    "name": "ipython",
    "version": 3
   },
   "file_extension": ".py",
   "mimetype": "text/x-python",
   "name": "python",
   "nbconvert_exporter": "python",
   "pygments_lexer": "ipython3",
   "version": "3.13.1"
  }
 },
 "nbformat": 4,
 "nbformat_minor": 5
}
