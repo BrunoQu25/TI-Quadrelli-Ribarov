{
 "cells": [
  {
   "cell_type": "markdown",
   "id": "49552914",
   "metadata": {},
   "source": [
    "# Trabajo Integrador: DuckDB"
   ]
  },
  {
   "cell_type": "markdown",
   "id": "685d9cd1",
   "metadata": {},
   "source": [
    "## Instalacion"
   ]
  },
  {
   "cell_type": "code",
   "execution_count": null,
   "id": "54fd40cc",
   "metadata": {},
   "outputs": [],
   "source": [
    "%pip install duckdb --upgrade"
   ]
  },
  {
   "cell_type": "markdown",
   "id": "335237e5",
   "metadata": {},
   "source": [
    "### Creando conexión"
   ]
  },
  {
   "cell_type": "markdown",
   "id": "1619f2e2",
   "metadata": {},
   "source": [
    "Nos permite establecer una conexión a una base de datos, por defecto, si no especificamos su nombre, la base de datos no persistirá y operará en memoria, por lo tanto no se almacenarán las tablas creadas."
   ]
  },
  {
   "cell_type": "code",
   "execution_count": 2,
   "id": "75c5e0b3",
   "metadata": {},
   "outputs": [],
   "source": [
    "import duckdb\n",
    "\n",
    "BD = duckdb.connect(\"main.db\")"
   ]
  },
  {
   "cell_type": "markdown",
   "id": "ee48b092",
   "metadata": {},
   "source": [
    "#### Prueba con el dataset"
   ]
  },
  {
   "cell_type": "code",
   "execution_count": null,
   "id": "ae6441cf",
   "metadata": {},
   "outputs": [],
   "source": [
    "%pip install kagglehub\n",
    "import kagglehub\n",
    "import shutil\n",
    "\n",
    "path = kagglehub.dataset_download(\"olistbr/brazilian-ecommerce\")\n",
    "\n",
    "shutil.copy(f\"{path}/olist_customers_dataset.csv\", \"olist_customers_dataset.csv\")\n",
    "\n",
    "BD.read_csv(\"olist_customers_dataset.csv\")\n",
    "\n",
    "BD.sql(\"SELECT * FROM 'olist_customers_dataset.csv' LIMIT 10\")\n"
   ]
  },
  {
   "cell_type": "markdown",
   "id": "23715818",
   "metadata": {},
   "source": [
    "#### Conexión con AWS S3"
   ]
  },
  {
   "cell_type": "code",
   "execution_count": null,
   "id": "64228904",
   "metadata": {},
   "outputs": [],
   "source": [
    "%pip install python-dotenv"
   ]
  },
  {
   "cell_type": "code",
   "execution_count": 7,
   "id": "8081e91f",
   "metadata": {},
   "outputs": [],
   "source": [
    "from dotenv import load_dotenv\n",
    "load_dotenv()  \n",
    "\n",
    "import os"
   ]
  },
  {
   "cell_type": "markdown",
   "id": "a936ae9d",
   "metadata": {},
   "source": [
    "**NOTA:** Para utilizar AWS S3 es necesario setear las credenciales para acceder al bucket, para eso debemos crear un User en la IAM de AWS, asignarle permisos y finalmente crear las claves de acceso para este usuario, que deben ser almacenadas y es importante que sean de la misma region donde se ubica el bucket"
   ]
  },
  {
   "cell_type": "code",
   "execution_count": null,
   "id": "47b45604",
   "metadata": {},
   "outputs": [],
   "source": [
    "BD.sql(\"INSTALL httpfs; LOAD httpfs;\")\n",
    "\n",
    "BD.sql(f\"\"\"\n",
    "SET s3_region='{os.getenv(\"AWS_REGION\")}';\n",
    "SET s3_access_key_id='{os.getenv(\"AWS_ACCESS_KEY_ID\")}';\n",
    "SET s3_secret_access_key='{os.getenv(\"AWS_SECRET_ACCESS_KEY\")}';\n",
    "\"\"\")"
   ]
  },
  {
   "cell_type": "code",
   "execution_count": null,
   "id": "adde13fe",
   "metadata": {},
   "outputs": [],
   "source": [
    "BD.sql(\"\"\"\n",
    "SELECT * FROM read_csv_auto('s3://ti-quadrelli-ribarov/olist_products_dataset.csv') LIMIT 5\n",
    "\"\"\")"
   ]
  },
  {
   "cell_type": "markdown",
   "id": "dac1742f",
   "metadata": {},
   "source": [
    "### Exploracion del dataset"
   ]
  },
  {
   "cell_type": "code",
   "execution_count": null,
   "id": "74656cf0",
   "metadata": {},
   "outputs": [],
   "source": [
    "import pandas as pd\n",
    "\n",
    "archivos_dataset = os.listdir('dataset')\n",
    "print(\"Archivos en el directorio 'dataset':\")\n",
    "for archivo in archivos_dataset:\n",
    "    print(archivo)\n",
    "\n",
    "for archivo in archivos_dataset:\n",
    "    if archivo.endswith('.csv'):\n",
    "        print(f\"\\nPrimeras filas de {archivo}:\")\n",
    "        display(pd.read_csv(f'dataset/{archivo}', nrows=5))"
   ]
  },
  {
   "cell_type": "code",
   "execution_count": 7,
   "id": "31cdfe4f",
   "metadata": {},
   "outputs": [],
   "source": [
    "BD.sql(\"CREATE TABLE customers AS SELECT * FROM 'dataset/olist_customers_dataset.csv'\")"
   ]
  },
  {
   "cell_type": "markdown",
   "id": "fee635ca",
   "metadata": {},
   "source": []
  }
 ],
 "metadata": {
  "kernelspec": {
   "display_name": "Python 3",
   "language": "python",
   "name": "python3"
  },
  "language_info": {
   "codemirror_mode": {
    "name": "ipython",
    "version": 3
   },
   "file_extension": ".py",
   "mimetype": "text/x-python",
   "name": "python",
   "nbconvert_exporter": "python",
   "pygments_lexer": "ipython3",
   "version": "3.13.1"
  }
 },
 "nbformat": 4,
 "nbformat_minor": 5
}
